{
 "cells": [
  {
   "cell_type": "code",
   "execution_count": 5,
   "id": "initial_id",
   "metadata": {
    "collapsed": true,
    "ExecuteTime": {
     "end_time": "2024-01-01T15:46:53.934911377Z",
     "start_time": "2024-01-01T15:46:53.932106523Z"
    }
   },
   "outputs": [],
   "source": [
    "from crmm.arguments import MultimodalDataArguments\n",
    "from crmm.dataset.multimodal_data import MultimodalData\n",
    "import warnings\n",
    "warnings.filterwarnings(\"ignore\")\n"
   ]
  },
  {
   "cell_type": "code",
   "execution_count": 6,
   "outputs": [],
   "source": [
    "dataset_name = 'cr2'\n",
    "data_args = MultimodalDataArguments(\n",
    "    dataset_name=dataset_name,\n",
    "    data_path=f'data/{dataset_name}/',\n",
    "    dataset_split_strategy='rolling_window'\n",
    ")\n",
    "train_years_list = [\n",
    "    [2010, 2011, 2012],\n",
    "    [2011, 2012, 2013],\n",
    "    [2012, 2013, 2014],\n",
    "    [2013, 2014, 2015],\n",
    "]\n",
    "test_year_List = [\n",
    "    [2013],\n",
    "    [2014],\n",
    "    [2015],\n",
    "    [2016],\n",
    "]\n",
    "company_col = 'Name' if dataset_name == 'cr' else 'Corporation'\n",
    "label_col = 'binaryRating' if dataset_name == 'cr' else 'Binary Rating'"
   ],
   "metadata": {
    "collapsed": false,
    "ExecuteTime": {
     "end_time": "2024-01-01T15:46:53.985012104Z",
     "start_time": "2024-01-01T15:46:53.937460550Z"
    }
   },
   "id": "e49c46bc9d5e0aa8"
  },
  {
   "cell_type": "code",
   "execution_count": 7,
   "outputs": [
    {
     "name": "stdout",
     "output_type": "stream",
     "text": [
      "***训练年份数据：[2010, 2011, 2012]， 测试年份数据：[2013]***\n",
      "训练集样本数量: 1294\n",
      "训练集中的正类样本数量: 789\n",
      "训练集中的负类样本数量: 505\n",
      "训练集中的正负类样本比例 1.5623762376237624\n",
      "测试集样本数量: 1387\n",
      "测试集中的正类样本数量: 911\n",
      "测试集中的负类样本数量: 476\n",
      "测试集中的正负类样本比例 1.9138655462184875\n",
      "测试集中模型从未见过的企业的样本数量: 756\n",
      "测试集中模型从未见过的企业的样本比例: 54.51%\n",
      "\n",
      "***训练年份数据：[2011, 2012, 2013]， 测试年份数据：[2014]***\n",
      "训练集样本数量: 2505\n",
      "训练集中的正类样本数量: 1594\n",
      "训练集中的负类样本数量: 911\n",
      "训练集中的正负类样本比例 1.7497255762897914\n",
      "测试集样本数量: 1944\n",
      "测试集中的正类样本数量: 1350\n",
      "测试集中的负类样本数量: 594\n",
      "测试集中的正负类样本比例 2.272727272727273\n",
      "测试集中模型从未见过的企业的样本数量: 229\n",
      "测试集中模型从未见过的企业的样本比例: 11.78%\n",
      "\n",
      "***训练年份数据：[2012, 2013, 2014]， 测试年份数据：[2015]***\n",
      "训练集样本数量: 3962\n",
      "训练集中的正类样本数量: 2619\n",
      "训练集中的负类样本数量: 1343\n",
      "训练集中的正负类样本比例 1.9501116902457185\n",
      "测试集样本数量: 2062\n",
      "测试集中的正类样本数量: 1413\n",
      "测试集中的负类样本数量: 649\n",
      "测试集中的正负类样本比例 2.177195685670262\n",
      "测试集中模型从未见过的企业的样本数量: 195\n",
      "测试集中模型从未见过的企业的样本比例: 9.46%\n",
      "\n",
      "***训练年份数据：[2013, 2014, 2015]， 测试年份数据：[2016]***\n",
      "训练集样本数量: 4854\n",
      "训练集中的正类样本数量: 3307\n",
      "训练集中的负类样本数量: 1547\n",
      "训练集中的正负类样本比例 2.1376858435681965\n",
      "测试集样本数量: 975\n",
      "测试集中的正类样本数量: 543\n",
      "测试集中的负类样本数量: 432\n",
      "测试集中的正负类样本比例 1.2569444444444444\n",
      "测试集中模型从未见过的企业的样本数量: 194\n",
      "测试集中模型从未见过的企业的样本比例: 19.90%\n"
     ]
    }
   ],
   "source": [
    "for train_years, test_years in zip(train_years_list, test_year_List):\n",
    "    print(f'***训练年份数据：{train_years}， 测试年份数据：{test_years}***')\n",
    "    data_args.train_years = train_years\n",
    "    data_args.test_years = test_years\n",
    "    data = MultimodalData(data_args, preprocess=False)\n",
    "    train_data, val_data, test_data = (data.train_data.drop(['GPT_description'], axis=1),\n",
    "                                       data.val_data.drop(['GPT_description'], axis=1),\n",
    "                                       data.test_data.drop(['GPT_description'], axis=1))\n",
    "    # @@@@\n",
    "    # 训练集中的正负类样本数量\n",
    "    train_positive_count = train_data[label_col].sum()\n",
    "    train_negative_count = len(train_data) - train_positive_count\n",
    "    \n",
    "    # 训练集中的正负类样本比例\n",
    "    train_positive_ratio = train_positive_count / len(train_data)\n",
    "    train_negative_ratio = train_negative_count / len(train_data)\n",
    "    \n",
    "    # 打印训练集的统计信息\n",
    "    print(\"训练集样本数量:\", len(train_data))\n",
    "    print(\"训练集中的正类样本数量:\", train_positive_count)\n",
    "    print(\"训练集中的负类样本数量:\", train_negative_count)\n",
    "    print(\"训练集中的正负类样本比例\", train_positive_count/train_negative_count)\n",
    "    \n",
    "    # 测试集中的正负类样本数量\n",
    "    test_positive_count = test_data[label_col].sum()\n",
    "    test_negative_count = len(test_data) - test_positive_count\n",
    "    \n",
    "    # 测试集中的正负类样本比例\n",
    "    test_positive_ratio = test_positive_count / len(test_data)\n",
    "    test_negative_ratio = test_negative_count / len(test_data)\n",
    "    \n",
    "    # 打印测试集的统计信息\n",
    "    print(\"测试集样本数量:\", len(test_data))\n",
    "    print(\"测试集中的正类样本数量:\", test_positive_count)\n",
    "    print(\"测试集中的负类样本数量:\", test_negative_count)\n",
    "    print(\"测试集中的正负类样本比例\", test_positive_count/test_negative_count)\n",
    "    \n",
    "    # @@@@\n",
    "    # 步骤1: 获取训练集中所有独特的企业名称\n",
    "    unique_train_names = set(train_data[company_col].unique())\n",
    "    # 步骤2: 判断测试集中的企业名称是否在训练集的企业名称列表中\n",
    "    # 使用 apply 函数和 lambda 表达式来创建一个新的布尔列\n",
    "    test_data['Is_New_Company'] = test_data[company_col].apply(lambda x: x not in unique_train_names)\n",
    "    # 步骤3: 计算测试集中未见企业样本的数量\n",
    "    new_companies_count = test_data['Is_New_Company'].sum()\n",
    "    # 步骤4: 计算未见企业样本的比例\n",
    "    new_companies_ratio = new_companies_count / len(test_data)\n",
    "    # 打印结果\n",
    "    print(f\"测试集中模型从未见过的企业的样本数量: {new_companies_count}\")\n",
    "    print(f\"测试集中模型从未见过的企业的样本比例: {new_companies_ratio:.2%}\")\n",
    "    \n",
    "    # @@@@\n",
    "    \n",
    "    print()"
   ],
   "metadata": {
    "collapsed": false,
    "ExecuteTime": {
     "end_time": "2024-01-01T15:46:54.257130254Z",
     "start_time": "2024-01-01T15:46:53.984898620Z"
    }
   },
   "id": "67976564f71f3f77"
  },
  {
   "cell_type": "code",
   "execution_count": 7,
   "outputs": [],
   "source": [],
   "metadata": {
    "collapsed": false,
    "ExecuteTime": {
     "end_time": "2024-01-01T15:46:54.257565819Z",
     "start_time": "2024-01-01T15:46:54.256298104Z"
    }
   },
   "id": "b18eaacf8993b9ea"
  }
 ],
 "metadata": {
  "kernelspec": {
   "display_name": "Python 3",
   "language": "python",
   "name": "python3"
  },
  "language_info": {
   "codemirror_mode": {
    "name": "ipython",
    "version": 2
   },
   "file_extension": ".py",
   "mimetype": "text/x-python",
   "name": "python",
   "nbconvert_exporter": "python",
   "pygments_lexer": "ipython2",
   "version": "2.7.6"
  }
 },
 "nbformat": 4,
 "nbformat_minor": 5
}
