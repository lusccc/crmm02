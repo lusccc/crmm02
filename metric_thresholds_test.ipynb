{
 "cells": [
  {
   "cell_type": "code",
   "execution_count": 4,
   "id": "initial_id",
   "metadata": {
    "collapsed": true,
    "ExecuteTime": {
     "end_time": "2024-01-02T13:17:22.504518882Z",
     "start_time": "2024-01-02T13:17:22.502463969Z"
    }
   },
   "outputs": [],
   "source": [
    "import numpy as np\n",
    "from sklearn.metrics import roc_auc_score, precision_recall_curve, recall_score, precision_score, f1_score\n",
    "\n"
   ]
  },
  {
   "cell_type": "code",
   "execution_count": 5,
   "outputs": [],
   "source": [
    "labels = np.array([0, 1, 1, 0, 1])  # 真实标签\n",
    "pred_scores = np.array([0.1, 0.4, 0.35, 0.8, 0.7])  # 预测得分\n",
    "pred_labels = np.array([0, 0, 0, 1, 1])"
   ],
   "metadata": {
    "collapsed": false,
    "ExecuteTime": {
     "end_time": "2024-01-02T13:17:22.552370328Z",
     "start_time": "2024-01-02T13:17:22.506260069Z"
    }
   },
   "id": "48d46e15cc7f46b5"
  },
  {
   "cell_type": "code",
   "execution_count": 6,
   "outputs": [
    {
     "name": "stdout",
     "output_type": "stream",
     "text": [
      "{'roc_auc': 0.5, 'threshold': 0.35, 'recall': 1.0, 'precision': 0.75, 'f1': 0.8571428571428571}\n"
     ]
    },
    {
     "name": "stderr",
     "output_type": "stream",
     "text": [
      "/tmp/ipykernel_47449/2794644822.py:3: RuntimeWarning: invalid value encountered in divide\n",
      "  fscore = (2 * precisions * recalls) / (precisions + recalls)\n"
     ]
    }
   ],
   "source": [
    "roc_auc_pred_score = roc_auc_score(labels, pred_scores)\n",
    "precisions, recalls, thresholds = precision_recall_curve(labels, pred_scores)\n",
    "fscore = (2 * precisions * recalls) / (precisions + recalls)\n",
    "fscore[np.isnan(fscore)] = 0\n",
    "ix = np.argmax(fscore)\n",
    "threshold = thresholds[ix].item()\n",
    "recall = recalls[ix].item()\n",
    "precision = precisions[ix].item()\n",
    "f1 = fscore[ix].item()\n",
    "print({\n",
    "    'roc_auc': roc_auc_pred_score,\n",
    "    'threshold': threshold,\n",
    "    'recall': recalls[ix].item(),\n",
    "    'precision': precisions[ix].item(),\n",
    "    'f1': fscore[ix].item(),\n",
    "})"
   ],
   "metadata": {
    "collapsed": false,
    "ExecuteTime": {
     "end_time": "2024-01-02T13:17:22.552790603Z",
     "start_time": "2024-01-02T13:17:22.552129111Z"
    }
   },
   "id": "1e88e826a807368b"
  },
  {
   "cell_type": "code",
   "execution_count": 8,
   "outputs": [
    {
     "name": "stdout",
     "output_type": "stream",
     "text": [
      "{'recall': 0.3333333333333333, 'precision': 0.5, 'f1': 0.4}\n"
     ]
    }
   ],
   "source": [
    "y_true = labels\n",
    "y_pred = pred_labels\n",
    "recall = recall_score(y_true, y_pred)\n",
    "precision = precision_score(y_true, y_pred)\n",
    "f1 = f1_score(y_true, y_pred)\n",
    "print({\n",
    "    'recall': recall,\n",
    "    'precision':precision,\n",
    "    'f1': f1,\n",
    "})"
   ],
   "metadata": {
    "collapsed": false,
    "ExecuteTime": {
     "end_time": "2024-01-02T13:29:49.042516203Z",
     "start_time": "2024-01-02T13:29:48.989911032Z"
    }
   },
   "id": "9d6b8bbb7005b61f"
  },
  {
   "cell_type": "code",
   "execution_count": null,
   "outputs": [],
   "source": [],
   "metadata": {
    "collapsed": false
   },
   "id": "13d287e4973bcb1d"
  }
 ],
 "metadata": {
  "kernelspec": {
   "display_name": "Python 3",
   "language": "python",
   "name": "python3"
  },
  "language_info": {
   "codemirror_mode": {
    "name": "ipython",
    "version": 2
   },
   "file_extension": ".py",
   "mimetype": "text/x-python",
   "name": "python",
   "nbconvert_exporter": "python",
   "pygments_lexer": "ipython2",
   "version": "2.7.6"
  }
 },
 "nbformat": 4,
 "nbformat_minor": 5
}
